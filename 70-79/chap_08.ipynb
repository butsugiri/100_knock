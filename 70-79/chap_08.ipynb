{
 "cells": [
  {
   "cell_type": "code",
   "execution_count": 5,
   "metadata": {
    "collapsed": true
   },
   "outputs": [],
   "source": [
    "%matplotlib inline\n",
    "import pandas as pd\n",
    "import matplotlib.pyplot as plt\n",
    "import numpy.random as rnd\n",
    "import numpy as np\n",
    "import matplotlib\n",
    "import seaborn as sns\n",
    "import sys"
   ]
  },
  {
   "cell_type": "markdown",
   "metadata": {},
   "source": [
    "# 71. ストップワード"
   ]
  },
  {
   "cell_type": "code",
   "execution_count": 6,
   "metadata": {
    "collapsed": true
   },
   "outputs": [],
   "source": [
    "stop_word_dict = {}\n",
    "with open(\"./data/stop_word.txt\", \"r\") as fi:\n",
    "    for line in fi:\n",
    "        stop_word_dict[line.strip()] = True\n",
    "\n",
    "def is_stop_word(term, stop_word_dict):\n",
    "    return stop_word_dict.get(term.lower(), False)"
   ]
  },
  {
   "cell_type": "code",
   "execution_count": 8,
   "metadata": {
    "collapsed": false
   },
   "outputs": [],
   "source": [
    "#testの記述\n",
    "def assert_stop_word_dict(term, stop_word_dict):\n",
    "    try:\n",
    "        assert is_stop_word(\"a\", stop_word_dict) == True\n",
    "    except AssertionError:\n",
    "        sys.stderr.write(\"{} is not a stop_word, but it should be.\\n\".format(term))\n",
    "        raise AssertionError"
   ]
  },
  {
   "cell_type": "code",
   "execution_count": 9,
   "metadata": {
    "collapsed": false
   },
   "outputs": [],
   "source": [
    "# testの実行\n",
    "assert_stop_word_dict(\"a\", stop_word_dict)"
   ]
  },
  {
   "cell_type": "markdown",
   "metadata": {
    "collapsed": true
   },
   "source": [
    "# 72,73,74"
   ]
  },
  {
   "cell_type": "code",
   "execution_count": 214,
   "metadata": {
    "collapsed": true
   },
   "outputs": [],
   "source": [
    "%matplotlib inline\n",
    "import pandas as pd\n",
    "import matplotlib.pyplot as plt\n",
    "import numpy.random as rnd\n",
    "import numpy as np\n",
    "import matplotlib\n",
    "import seaborn as sns\n",
    "from sklearn.cross_validation import train_test_split\n",
    "from sklearn.feature_extraction.text import CountVectorizer\n",
    "from sklearn.feature_extraction.text import TfidfTransformer\n",
    "from sklearn.pipeline import Pipeline\n",
    "from sklearn.linear_model import LogisticRegression"
   ]
  },
  {
   "cell_type": "code",
   "execution_count": 215,
   "metadata": {
    "collapsed": false
   },
   "outputs": [],
   "source": [
    "# データのロード\n",
    "texts = []\n",
    "labels = []\n",
    "with open(\"./data/training.txt\", \"r\") as fi:\n",
    "    heads = [fi.next() for x in xrange(10000)]\n",
    "for line in heads:\n",
    "    label, text = line.rstrip().split(\" \", 1)\n",
    "    labels.append(label)\n",
    "    texts.append(text)\n",
    "        \n",
    "labels = np.array(labels,dtype=np.float32)"
   ]
  },
  {
   "cell_type": "code",
   "execution_count": 216,
   "metadata": {
    "collapsed": false
   },
   "outputs": [],
   "source": [
    "#tokenizer, stemmerの用意\n",
    "from nltk import word_tokenize\n",
    "from nltk.stem.porter import PorterStemmer\n",
    "import string\n",
    "\n",
    "stemmer = PorterStemmer()\n",
    "def stem_token(token): #single_token\n",
    "    return stemmer.stem(token)\n",
    "\n",
    "def tokenizer(text): #str\n",
    "    tokens = word_tokenize(text)\n",
    "    tokens = [stem_token(x) for x in tokens if x not in string.punctuation]\n",
    "    return tokens"
   ]
  },
  {
   "cell_type": "code",
   "execution_count": 225,
   "metadata": {
    "collapsed": false
   },
   "outputs": [],
   "source": [
    "X_train, X_test, y_train, y_test = train_test_split(texts, labels, test_size=0.33, random_state=42)\n",
    "stopword_list = list(stop_word_dict.keys())"
   ]
  },
  {
   "cell_type": "code",
   "execution_count": 218,
   "metadata": {
    "collapsed": false
   },
   "outputs": [
    {
     "data": {
      "text/plain": [
       "Pipeline(steps=[('vect', CountVectorizer(analyzer=u'word', binary=False, decode_error=u'strict',\n",
       "        dtype=<type 'numpy.int64'>, encoding=u'utf-8', input=u'content',\n",
       "        lowercase=True, max_df=1.0, max_features=None, min_df=1,\n",
       "        ngram_range=(1, 2), preprocessor=None,\n",
       "        stop_words=['all', ...ty='l2', random_state=None, solver='liblinear', tol=0.0001,\n",
       "          verbose=0, warm_start=False))])"
      ]
     },
     "execution_count": 218,
     "metadata": {},
     "output_type": "execute_result"
    }
   ],
   "source": [
    "text_clf = Pipeline([\n",
    "        ('vect', CountVectorizer(tokenizer=tokenizer, stop_words=stopword_list,ngram_range=(1,2))),\n",
    "        ('tfidf', TfidfTransformer()),\n",
    "        ('clf', LogisticRegression())\n",
    "    ])\n",
    "text_clf.fit(X_train,y_train)"
   ]
  },
  {
   "cell_type": "code",
   "execution_count": 219,
   "metadata": {
    "collapsed": false
   },
   "outputs": [
    {
     "data": {
      "text/plain": [
       "0.96805970149253728"
      ]
     },
     "execution_count": 219,
     "metadata": {},
     "output_type": "execute_result"
    }
   ],
   "source": [
    "text_clf.score(X_train, y_train)"
   ]
  },
  {
   "cell_type": "markdown",
   "metadata": {
    "collapsed": true
   },
   "source": [
    "# 75. 素性の重み"
   ]
  },
  {
   "cell_type": "code",
   "execution_count": 220,
   "metadata": {
    "collapsed": false
   },
   "outputs": [
    {
     "name": "stdout",
     "output_type": "stream",
     "text": [
      "重みの低い素性トップ10\n",
      "bad\t-2.9296239684\n",
      "bore\t-2.28427560627\n",
      "dull\t-2.21578140562\n",
      "n't\t-2.19611221026\n",
      "thing\t-1.93527113133\n",
      "lack\t-1.87768214267\n",
      "much\t-1.78606965688\n",
      "onli\t-1.77069998251\n",
      "joke\t-1.68282716265\n",
      "fail\t-1.6626980952\n",
      "\n",
      "重みの高い素性トップ10\n",
      "perform\t2.30989297557\n",
      "beauti\t2.28536884764\n",
      "enjoy\t2.23408337938\n",
      "film\t2.16864943595\n",
      "funni\t2.10105036501\n",
      "best\t2.06569216724\n",
      "move\t1.88222831991\n",
      "delight\t1.82306875588\n",
      "work\t1.80141673011\n",
      "heart\t1.77794433629\n"
     ]
    }
   ],
   "source": [
    "from itertools import islice\n",
    "feature_coefs = text_clf.steps[2][1].coef_\n",
    "feature_list = text_clf.steps[0][1].get_feature_names()\n",
    "weight_dict = {f:w for f,w in zip(feature_list, feature_coefs.tolist()[0])}\n",
    "\n",
    "print \"重みの低い素性トップ10\"\n",
    "for k,v in islice(sorted(weight_dict.items(), key=lambda x: x[1]), 10):\n",
    "    print \"{}\\t{}\".format(k,v)\n",
    "print\n",
    "print \"重みの高い素性トップ10\"\n",
    "for k,v in islice(sorted(weight_dict.items(), key=lambda x: x[1], reverse=True), 10):\n",
    "    print \"{}\\t{}\".format(k,v)"
   ]
  },
  {
   "cell_type": "markdown",
   "metadata": {},
   "source": [
    "# 76. ラベル付け"
   ]
  },
  {
   "cell_type": "code",
   "execution_count": 295,
   "metadata": {
    "collapsed": false
   },
   "outputs": [
    {
     "name": "stdout",
     "output_type": "stream",
     "text": [
      "-1\t-1\t[ 0.69828041  0.30171959]\n",
      "-1\t-1\t[ 0.65826513  0.34173487]\n",
      "-1\t-1\t[ 0.67431306  0.32568694]\n",
      "-1\t-1\t[ 0.64042727  0.35957273]\n",
      "-1\t-1\t[ 0.59064288  0.40935712]\n",
      "-1\t-1\t[ 0.68288457  0.31711543]\n",
      "1\t1\t[ 0.46160085  0.53839915]\n",
      "-1\t-1\t[ 0.68241353  0.31758647]\n",
      "-1\t-1\t[ 0.67234294  0.32765706]\n",
      "1\t1\t[ 0.34053484  0.65946516]\n",
      "-1\t-1\t[ 0.74060643  0.25939357]\n",
      "1\t1\t[ 0.27439916  0.72560084]\n",
      "-1\t-1\t[ 0.50290536  0.49709464]\n",
      "1\t1\t[ 0.36706488  0.63293512]\n",
      "1\t1\t[ 0.30298068  0.69701932]\n",
      "1\t1\t[ 0.40745948  0.59254052]\n",
      "1\t1\t[ 0.39539336  0.60460664]\n",
      "1\t1\t[ 0.43532335  0.56467665]\n",
      "-1\t-1\t[ 0.52733055  0.47266945]\n",
      "-1\t-1\t[ 0.65920679  0.34079321]\n",
      "-1\t-1\t[ 0.61634864  0.38365136]\n",
      "1\t1\t[ 0.33126279  0.66873721]\n",
      "-1\t-1\t[ 0.6657432  0.3342568]\n",
      "1\t-1\t[ 0.51611688  0.48388312]\n",
      "1\t1\t[ 0.2411251  0.7588749]\n",
      "-1\t-1\t[ 0.68037088  0.31962912]\n",
      "-1\t-1\t[ 0.66862681  0.33137319]\n",
      "1\t1\t[ 0.35607188  0.64392812]\n",
      "-1\t-1\t[ 0.68493055  0.31506945]\n",
      "-1\t-1\t[ 0.6371668  0.3628332]\n",
      "-1\t-1\t[ 0.63120851  0.36879149]\n",
      "-1\t-1\t[ 0.57969157  0.42030843]\n",
      "-1\t-1\t[ 0.74789645  0.25210355]\n",
      "-1\t-1\t[ 0.68289465  0.31710535]\n",
      "-1\t-1\t[ 0.62399247  0.37600753]\n",
      "1\t1\t[ 0.29652146  0.70347854]\n",
      "-1\t-1\t[ 0.52863655  0.47136345]\n",
      "1\t1\t[ 0.42749148  0.57250852]\n",
      "-1\t-1\t[ 0.77069919  0.22930081]\n",
      "1\t1\t[ 0.38114623  0.61885377]\n",
      "-1\t-1\t[ 0.62828921  0.37171079]\n",
      "1\t1\t[ 0.37705052  0.62294948]\n",
      "1\t1\t[ 0.32950548  0.67049452]\n",
      "-1\t-1\t[ 0.76035362  0.23964638]\n",
      "1\t1\t[ 0.35368741  0.64631259]\n",
      "-1\t-1\t[ 0.6159322  0.3840678]\n",
      "1\t1\t[ 0.38040624  0.61959376]\n",
      "-1\t-1\t[ 0.56973771  0.43026229]\n",
      "-1\t-1\t[ 0.61427797  0.38572203]\n",
      "-1\t-1\t[ 0.6421675  0.3578325]\n",
      "1\t1\t[ 0.46717662  0.53282338]\n",
      "-1\t-1\t[ 0.66859813  0.33140187]\n",
      "1\t1\t[ 0.33563129  0.66436871]\n",
      "1\t1\t[ 0.21480909  0.78519091]\n",
      "1\t1\t[ 0.4617502  0.5382498]\n",
      "1\t-1\t[ 0.52332077  0.47667923]\n",
      "1\t1\t[ 0.39822365  0.60177635]\n",
      "1\t1\t[ 0.45586266  0.54413734]\n",
      "-1\t-1\t[ 0.60259811  0.39740189]\n",
      "1\t1\t[ 0.33065624  0.66934376]\n",
      "1\t1\t[ 0.36215976  0.63784024]\n",
      "1\t1\t[ 0.29371046  0.70628954]\n",
      "1\t1\t[ 0.33515005  0.66484995]\n",
      "-1\t-1\t[ 0.68065637  0.31934363]\n",
      "-1\t-1\t[ 0.55434742  0.44565258]\n",
      "1\t1\t[ 0.40210045  0.59789955]\n",
      "1\t1\t[ 0.34519765  0.65480235]\n",
      "1\t1\t[ 0.43740195  0.56259805]\n",
      "-1\t-1\t[ 0.62423746  0.37576254]\n",
      "1\t1\t[ 0.38920549  0.61079451]\n",
      "-1\t-1\t[ 0.58007841  0.41992159]\n",
      "-1\t-1\t[ 0.59954892  0.40045108]\n",
      "-1\t-1\t[ 0.52179204  0.47820796]\n",
      "1\t1\t[ 0.32571057  0.67428943]\n",
      "-1\t-1\t[ 0.68234705  0.31765295]\n",
      "-1\t-1\t[ 0.6082351  0.3917649]\n",
      "-1\t1\t[ 0.45492268  0.54507732]\n",
      "1\t1\t[ 0.34217179  0.65782821]\n",
      "-1\t-1\t[ 0.63859822  0.36140178]\n",
      "1\t1\t[ 0.33593377  0.66406623]\n",
      "1\t1\t[ 0.31606931  0.68393069]\n",
      "1\t1\t[ 0.40564742  0.59435258]\n",
      "-1\t-1\t[ 0.50998694  0.49001306]\n",
      "-1\t-1\t[ 0.68442071  0.31557929]\n",
      "1\t1\t[ 0.33761009  0.66238991]\n",
      "-1\t1\t[ 0.49175888  0.50824112]\n",
      "-1\t-1\t[ 0.55381186  0.44618814]\n",
      "1\t1\t[ 0.47682295  0.52317705]\n",
      "1\t1\t[ 0.31439811  0.68560189]\n",
      "1\t1\t[ 0.43215164  0.56784836]\n",
      "1\t1\t[ 0.45790064  0.54209936]\n",
      "-1\t-1\t[ 0.60179404  0.39820596]\n",
      "-1\t-1\t[ 0.68053423  0.31946577]\n",
      "-1\t-1\t[ 0.64946475  0.35053525]\n",
      "1\t1\t[ 0.36161689  0.63838311]\n",
      "1\t1\t[ 0.36359739  0.63640261]\n",
      "-1\t-1\t[ 0.5885567  0.4114433]\n",
      "-1\t-1\t[ 0.65929288  0.34070712]\n",
      "-1\t-1\t[ 0.63798478  0.36201522]\n",
      "1\t1\t[ 0.32729898  0.67270102]\n"
     ]
    }
   ],
   "source": [
    "for label, predict, score in islice(zip(y_train, text_clf.predict(X_train), text_clf.predict_proba(X_train)), 100):\n",
    "    print \"{}\\t{}\\t{}\".format(int(label), int(predict), score)"
   ]
  },
  {
   "cell_type": "markdown",
   "metadata": {},
   "source": [
    "# 77. 正解率の計測"
   ]
  },
  {
   "cell_type": "code",
   "execution_count": 197,
   "metadata": {
    "collapsed": true
   },
   "outputs": [],
   "source": [
    "from sklearn.metrics import precision_recall_fscore_support"
   ]
  },
  {
   "cell_type": "code",
   "execution_count": 199,
   "metadata": {
    "collapsed": false
   },
   "outputs": [
    {
     "data": {
      "text/plain": [
       "(0.97539218701937869, 0.95945537065052955, 0.96735814521049424, None)"
      ]
     },
     "execution_count": 199,
     "metadata": {},
     "output_type": "execute_result"
    }
   ],
   "source": [
    "y_true = y_train\n",
    "y_pred = text_clf.predict(X_train)\n",
    "precision_recall_fscore_support(y_true=y_true, y_pred=y_pred, average=\"binary\")"
   ]
  },
  {
   "cell_type": "markdown",
   "metadata": {},
   "source": [
    "# 78. 5分割交差検定"
   ]
  },
  {
   "cell_type": "code",
   "execution_count": 230,
   "metadata": {
    "collapsed": false
   },
   "outputs": [],
   "source": [
    "# データのロード(再)\n",
    "texts = []\n",
    "labels = []\n",
    "with open(\"./data/training.txt\", \"r\") as fi:\n",
    "    heads = [fi.next() for x in xrange(10000)]\n",
    "for line in heads:\n",
    "    label, text = line.rstrip().split(\" \", 1)\n",
    "    labels.append(label)\n",
    "    texts.append(text)\n",
    "        \n",
    "labels = np.array(labels,dtype=np.float32)\n",
    "\n",
    "texts = np.array(texts)"
   ]
  },
  {
   "cell_type": "code",
   "execution_count": 242,
   "metadata": {
    "collapsed": false
   },
   "outputs": [
    {
     "name": "stdout",
     "output_type": "stream",
     "text": [
      "precision: 0.741414141414\trecall: 0.765380604797\tf1: 0.753206772704\n",
      "precision: 0.736178467507\trecall: 0.765893037336\tf1: 0.750741839763\n",
      "precision: 0.775913129319\trecall: 0.776679841897\tf1: 0.776296296296\n",
      "precision: 0.766233766234\trecall: 0.743937924345\tf1: 0.754921259843\n",
      "precision: 0.752786220871\trecall: 0.755081300813\tf1: 0.753932014206\n",
      "Average Score:\n",
      "Precision: 0.754505145069\tRecall: 0.761394541838\tF1: 0.761394541838\n"
     ]
    }
   ],
   "source": [
    "from sklearn.cross_validation import KFold\n",
    "kf = KFold(len(texts), n_folds=5)\n",
    "\n",
    "precision = []\n",
    "recall = []\n",
    "f1 = []\n",
    "for train_index, test_index in kf:\n",
    "    X_train, X_test = texts[train_index],texts[test_index]\n",
    "    y_train, y_test = labels[train_index], labels[test_index]\n",
    "    text_clf.fit(X_train, y_train)\n",
    "    y_true = y_test\n",
    "    y_pred = text_clf.predict(X_test)\n",
    "    result = precision_recall_fscore_support(y_true=y_true, y_pred=y_pred, average=\"binary\")\n",
    "    print \"precision: {0}\\trecall: {1}\\tf1: {2}\".format(*result)\n",
    "    precision.append(result[0])\n",
    "    recall.append(result[1])\n",
    "    f1.append(result[1])\n",
    "\n",
    "print \"Average Score:\"\n",
    "print \"Precision: {}\\tRecall: {}\\tF1: {}\".format(\n",
    "    np.mean(precision),\n",
    "    np.mean(recall),\n",
    "    np.mean(f1))"
   ]
  },
  {
   "cell_type": "markdown",
   "metadata": {
    "collapsed": true
   },
   "source": [
    "# 79. 適合率-再現率グラフの描画"
   ]
  },
  {
   "cell_type": "code",
   "execution_count": 281,
   "metadata": {
    "collapsed": false
   },
   "outputs": [
    {
     "data": {
      "text/plain": [
       "Pipeline(steps=[('vect', CountVectorizer(analyzer=u'word', binary=False, decode_error=u'strict',\n",
       "        dtype=<type 'numpy.int64'>, encoding=u'utf-8', input=u'content',\n",
       "        lowercase=True, max_df=1.0, max_features=None, min_df=1,\n",
       "        ngram_range=(1, 2), preprocessor=None,\n",
       "        stop_words=['all', ...ty='l2', random_state=None, solver='liblinear', tol=0.0001,\n",
       "          verbose=0, warm_start=False))])"
      ]
     },
     "execution_count": 281,
     "metadata": {},
     "output_type": "execute_result"
    }
   ],
   "source": [
    "X_train, X_test, y_train, y_test = train_test_split(texts, labels, test_size=0.33, random_state=42)\n",
    "text_clf.fit(X_train, y_train)"
   ]
  },
  {
   "cell_type": "code",
   "execution_count": 251,
   "metadata": {
    "collapsed": false
   },
   "outputs": [],
   "source": [
    "y_prob = text_clf.predict_proba(X_test)"
   ]
  },
  {
   "cell_type": "code",
   "execution_count": 282,
   "metadata": {
    "collapsed": false
   },
   "outputs": [],
   "source": [
    "from sklearn.metrics import precision_recall_curve\n",
    "precision, recall, threshold = precision_recall_curve(y_test, y_prob[:,1:2])"
   ]
  },
  {
   "cell_type": "code",
   "execution_count": 294,
   "metadata": {
    "collapsed": false
   },
   "outputs": [
    {
     "data": {
      "image/png": "[encoded data removed]",
      "text/plain": [
       "<matplotlib.figure.Figure at 0x16b1dedd0>"
      ]
     },
     "metadata": {
      "image/png": {
       "height": 325,
       "width": 452
      }
     },
     "output_type": "display_data"
    }
   ],
   "source": [
    "df = pd.DataFrame(data={\"precision\": precision, \"recall\": recall}) #dataframeにまとめるのが手っ取り早い\n",
    "sns.set_palette(\"husl\")\n",
    "sns.regplot(x=\"precision\", y=\"recall\", data=df, fit_reg=False)\n",
    "sns.plt.title('Precision-Recall Curve')\n",
    "plt.show()\n"
   ]
  },
  {
   "cell_type": "code",
   "execution_count": null,
   "metadata": {
    "collapsed": true
   },
   "outputs": [],
   "source": []
  }
 ],
 "metadata": {
  "kernelspec": {
   "display_name": "Python 2",
   "language": "python",
   "name": "python2"
  },
  "language_info": {
   "codemirror_mode": {
    "name": "ipython",
    "version": 2
   },
   "file_extension": ".py",
   "mimetype": "text/x-python",
   "name": "python",
   "nbconvert_exporter": "python",
   "pygments_lexer": "ipython2",
   "version": "2.7.10"
  }
 },
 "nbformat": 4,
 "nbformat_minor": 0
}
