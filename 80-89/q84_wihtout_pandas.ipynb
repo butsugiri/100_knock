{
 "cells": [
  {
   "cell_type": "markdown",
   "metadata": {},
   "source": [
    "# q84\n",
    "84: 単語文脈行列の作成\n",
    "83の出力を利用し，単語文脈行列XXを作成せよ\n",
    "\n",
    "心が折れたのでここから100分の1コーパスを使った．"
   ]
  },
  {
   "cell_type": "markdown",
   "metadata": {},
   "source": [
    "## 使ったライブラリなど\n",
    "scipy.sparse: 疎行列を扱うためのライブラリ\n",
    "cPickle: pickleのC実装．pickleよりもいくらか速い．cPickleのデメリット(サブクラス化できないとかなんとか)は理解していない．"
   ]
  },
  {
   "cell_type": "markdown",
   "metadata": {},
   "source": [
    "## 方針\n",
    "* q83で作成したf(t,c), f(t,*), f(*,c)らのtxtファイルをロードする．それぞれを辞書に格納．\n",
    "* 疎行列のインデックスにwordを直接利用することはできないため，word_setを作ってからwordからidxに変換する辞書を作成する．（これは後にpickle化する）\n",
    "* 問に与えられたPPMIの定義に沿って，疎行列に値を格納していく．0な値を作らないとかいうのは，疎行列のライブラリがうまくやってくれるはず．（値を挿入するまでは行列はメモリ上に展開されない，という雑な理解）\n",
    "* 最後にcPickleを使って保存"
   ]
  },
  {
   "cell_type": "code",
   "execution_count": 1,
   "metadata": {
    "collapsed": false
   },
   "outputs": [],
   "source": [
    "import sys\n",
    "import cPickle\n",
    "import numpy as np\n",
    "import scipy.sparse as sp\n",
    "from collections import defaultdict"
   ]
  },
  {
   "cell_type": "markdown",
   "metadata": {},
   "source": [
    "100分の1サイズのコーパスでq83を実行したときに得たNの値を決め打ちした．"
   ]
  },
  {
   "cell_type": "code",
   "execution_count": 2,
   "metadata": {
    "collapsed": true
   },
   "outputs": [],
   "source": [
    "N = 387858"
   ]
  },
  {
   "cell_type": "code",
   "execution_count": 3,
   "metadata": {
    "collapsed": false
   },
   "outputs": [],
   "source": [
    "tc_freq = defaultdict(lambda: defaultdict(int))\n",
    "xc_freq = {}\n",
    "tx_freq = {}\n",
    "word_set = set()\n",
    "with open(\"/work/kiyono/f_tc.txt\", \"r\") as tc_file, open(\"/work/kiyono/f_c.txt\", \"r\") as xc_file, open(\"/work/kiyono/f_t.txt\", \"r\") as tx_file:\n",
    "    for line in tc_file:\n",
    "        target,context,count = line.rstrip().split(\"\\t\")\n",
    "        tc_freq[target][context] = int(count)\n",
    "    \n",
    "    for line in xc_file:\n",
    "        word,freq = line.rstrip().split(\"\\t\")\n",
    "        word_set.add(word)\n",
    "        xc_freq[word] = int(freq)\n",
    "        \n",
    "    for line in tx_file:\n",
    "        word, freq = line.rstrip().split(\"\\t\")\n",
    "        tx_freq[word] = int(freq)\n",
    "    \n",
    "    word2idx = {}\n",
    "    for n, word in enumerate(word_set):\n",
    "        word2idx[word] = n\n",
    "        "
   ]
  },
  {
   "cell_type": "code",
   "execution_count": 4,
   "metadata": {
    "collapsed": false
   },
   "outputs": [],
   "source": [
    "matrix = sp.lil_matrix((len(word2idx), len(word2idx)))"
   ]
  },
  {
   "cell_type": "code",
   "execution_count": 5,
   "metadata": {
    "collapsed": false
   },
   "outputs": [],
   "source": [
    "for target in tc_freq.iterkeys():\n",
    "    for context, count in tc_freq[target].iteritems():\n",
    "        if count >= 10:\n",
    "            t_idx = word2idx[target]\n",
    "            c_idx = word2idx[context]\n",
    "            matrix[t_idx,c_idx] = max(np.log((N*count) * 1.0/(xc_freq[context] * tx_freq[target] * 1.0)) , 0.0)\n",
    "        else:\n",
    "            pass"
   ]
  },
  {
   "cell_type": "code",
   "execution_count": 6,
   "metadata": {
    "collapsed": true
   },
   "outputs": [],
   "source": [
    "word_idx_file = open(\"./data/q84_word2idx.pkl\", \"w\")\n",
    "cPickle.dump(word2idx, word_idx_file)\n",
    "word_idx_file.close()"
   ]
  },
  {
   "cell_type": "code",
   "execution_count": 7,
   "metadata": {
    "collapsed": false
   },
   "outputs": [],
   "source": [
    "matrix_file = open(\"./data/q84_matrix.pkl\", \"w\")\n",
    "cPickle.dump(matrix, matrix_file)\n",
    "matrix_file.close()"
   ]
  },
  {
   "cell_type": "code",
   "execution_count": null,
   "metadata": {
    "collapsed": true
   },
   "outputs": [],
   "source": []
  }
 ],
 "metadata": {
  "kernelspec": {
   "display_name": "Python 2",
   "language": "python",
   "name": "python2"
  },
  "language_info": {
   "codemirror_mode": {
    "name": "ipython",
    "version": 2
   },
   "file_extension": ".py",
   "mimetype": "text/x-python",
   "name": "python",
   "nbconvert_exporter": "python",
   "pygments_lexer": "ipython2",
   "version": "2.7.6"
  }
 },
 "nbformat": 4,
 "nbformat_minor": 0
}
