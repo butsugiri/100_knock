{
 "cells": [
  {
   "cell_type": "markdown",
   "metadata": {},
   "source": [
    "# 第92問\n",
    "\n",
    "91で作成した評価データの各事例に対して，vec(2列目の単語) - vec(1列目の単語) + vec(3列目の単語)を計算し，そのベクトルと類似度が最も高い単語と，その類似度を求めよ．求めた単語と類似度は，各事例の末尾に追記せよ．\n",
    "\n",
    "このプログラムを85で作成した単語ベクトル，90で作成した単語ベクトルに対して適用せよ．"
   ]
  },
  {
   "cell_type": "code",
   "execution_count": 21,
   "metadata": {
    "collapsed": true
   },
   "outputs": [],
   "source": [
    "from gensim.models import Word2Vec\n",
    "from q86 import WordMatrix\n",
    "import cPickle as pickle\n"
   ]
  },
  {
   "cell_type": "code",
   "execution_count": 22,
   "metadata": {
    "collapsed": true
   },
   "outputs": [],
   "source": [
    "#重たいモデルのロード\n",
    "matrix = pickle.load(open(\"/work/kiyono/q85_truncated_matrix.pkl\"))\n",
    "word2idx = pickle.load(open(\"../80-89/data/q84_word2idx.pkl\"))\n",
    "model = Word2Vec.load_word2vec_format(\"./data/wiki_vector.bin\", binary=True)"
   ]
  },
  {
   "cell_type": "code",
   "execution_count": 23,
   "metadata": {
    "collapsed": true
   },
   "outputs": [],
   "source": [
    "def analogy_q90(w1, w2, w3):\n",
    "    result = model.most_similar(positive=[w2, w3], negative=[w1], topn=1)\n",
    "    return result[0]"
   ]
  },
  {
   "cell_type": "code",
   "execution_count": 24,
   "metadata": {
    "collapsed": true
   },
   "outputs": [],
   "source": [
    "def analogy_q85(w1, w2, w3):\n",
    "    # q85で作成したword_matrixと，word2idxをロード (from pickle file)\n",
    "    word_matrix = WordMatrix(matrix, word2idx)\n",
    "    \n",
    "    v1 = word_matrix.word_vector(w1)\n",
    "    v2 = word_matrix.word_vector(w2)\n",
    "    v3 = word_matrix.word_vector(w3)\n",
    "    \n",
    "    V = v2 - v1 + v3\n",
    "    \n",
    "    result = word_matrix.most_similar_N_vecs(V,1) #戻り値は要素一つのリスト\n",
    "    sim = result[0][0]\n",
    "    word = result[0][1]\n",
    "    return (word, sim)"
   ]
  },
  {
   "cell_type": "code",
   "execution_count": 27,
   "metadata": {
    "collapsed": true
   },
   "outputs": [],
   "source": [
    "def main():\n",
    "    # ファイルを読んで，三つ組を用意し，q85とq90で作ったベクトルに投げて，戻り値を回収し，\n",
    "    # それぞれをファイルの末尾に追記する関数\n",
    "    with open(\"./data/q91_family.txt\", \"r\") as f:\n",
    "        for line in f:\n",
    "            line = line.rstrip()\n",
    "            w1,w2,w3,_ = line.split(\" \")\n",
    "            \n",
    "            q85_vec = analogy_q85(w1,w2,w3)\n",
    "            q90_vec = analogy_q90(w1,w2,w3)\n",
    "            \n",
    "            print \"{}\\t{}\\t{}\\t{}\\t{}\".format(line,q85_vec[0], q85_vec[1],q90_vec[0], q90_vec[1])\n",
    "            "
   ]
  },
  {
   "cell_type": "code",
   "execution_count": 28,
   "metadata": {
    "collapsed": false,
    "scrolled": true
   },
   "outputs": [
    {
     "name": "stdout",
     "output_type": "stream",
     "text": [
      "boy girl brother sister\tbrother\t0.94849705123\tcousin\t0.58220821619\n",
      "boy girl brothers sisters\tbrothers\t0.863466783183\tsisters\t0.635191500187\n",
      "boy girl dad mom\tex-husband\t0.843817289056\tmum\t0.673826038837\n",
      "boy girl father mother\tfather\t0.951527319375\tmother\t0.680451154709\n",
      "boy girl grandfather grandmother\tgrandfather\t0.83001118922\tuncle\t0.584303855896\n"
     ]
    },
    {
     "ename": "KeyError",
     "evalue": "'grandpa'",
     "output_type": "error",
     "traceback": [
      "\u001b[1;31m---------------------------------------------------------------------------\u001b[0m",
      "\u001b[1;31mKeyError\u001b[0m                                  Traceback (most recent call last)",
      "\u001b[1;32m<ipython-input-28-58ca95c5b364>\u001b[0m in \u001b[0;36m<module>\u001b[1;34m()\u001b[0m\n\u001b[1;32m----> 1\u001b[1;33m \u001b[0mmain\u001b[0m\u001b[1;33m(\u001b[0m\u001b[1;33m)\u001b[0m\u001b[1;33m\u001b[0m\u001b[0m\n\u001b[0m",
      "\u001b[1;32m<ipython-input-27-daafa010575c>\u001b[0m in \u001b[0;36mmain\u001b[1;34m()\u001b[0m\n\u001b[0;32m      7\u001b[0m             \u001b[0mw1\u001b[0m\u001b[1;33m,\u001b[0m\u001b[0mw2\u001b[0m\u001b[1;33m,\u001b[0m\u001b[0mw3\u001b[0m\u001b[1;33m,\u001b[0m\u001b[0m_\u001b[0m \u001b[1;33m=\u001b[0m \u001b[0mline\u001b[0m\u001b[1;33m.\u001b[0m\u001b[0msplit\u001b[0m\u001b[1;33m(\u001b[0m\u001b[1;34m\" \"\u001b[0m\u001b[1;33m)\u001b[0m\u001b[1;33m\u001b[0m\u001b[0m\n\u001b[0;32m      8\u001b[0m \u001b[1;33m\u001b[0m\u001b[0m\n\u001b[1;32m----> 9\u001b[1;33m             \u001b[0mq85_vec\u001b[0m \u001b[1;33m=\u001b[0m \u001b[0manalogy_q85\u001b[0m\u001b[1;33m(\u001b[0m\u001b[0mw1\u001b[0m\u001b[1;33m,\u001b[0m\u001b[0mw2\u001b[0m\u001b[1;33m,\u001b[0m\u001b[0mw3\u001b[0m\u001b[1;33m)\u001b[0m\u001b[1;33m\u001b[0m\u001b[0m\n\u001b[0m\u001b[0;32m     10\u001b[0m             \u001b[0mq90_vec\u001b[0m \u001b[1;33m=\u001b[0m \u001b[0manalogy_q90\u001b[0m\u001b[1;33m(\u001b[0m\u001b[0mw1\u001b[0m\u001b[1;33m,\u001b[0m\u001b[0mw2\u001b[0m\u001b[1;33m,\u001b[0m\u001b[0mw3\u001b[0m\u001b[1;33m)\u001b[0m\u001b[1;33m\u001b[0m\u001b[0m\n\u001b[0;32m     11\u001b[0m \u001b[1;33m\u001b[0m\u001b[0m\n",
      "\u001b[1;32m<ipython-input-24-910f15310d38>\u001b[0m in \u001b[0;36manalogy_q85\u001b[1;34m(w1, w2, w3)\u001b[0m\n\u001b[0;32m      5\u001b[0m     \u001b[0mv1\u001b[0m \u001b[1;33m=\u001b[0m \u001b[0mword_matrix\u001b[0m\u001b[1;33m.\u001b[0m\u001b[0mword_vector\u001b[0m\u001b[1;33m(\u001b[0m\u001b[0mw1\u001b[0m\u001b[1;33m)\u001b[0m\u001b[1;33m\u001b[0m\u001b[0m\n\u001b[0;32m      6\u001b[0m     \u001b[0mv2\u001b[0m \u001b[1;33m=\u001b[0m \u001b[0mword_matrix\u001b[0m\u001b[1;33m.\u001b[0m\u001b[0mword_vector\u001b[0m\u001b[1;33m(\u001b[0m\u001b[0mw2\u001b[0m\u001b[1;33m)\u001b[0m\u001b[1;33m\u001b[0m\u001b[0m\n\u001b[1;32m----> 7\u001b[1;33m     \u001b[0mv3\u001b[0m \u001b[1;33m=\u001b[0m \u001b[0mword_matrix\u001b[0m\u001b[1;33m.\u001b[0m\u001b[0mword_vector\u001b[0m\u001b[1;33m(\u001b[0m\u001b[0mw3\u001b[0m\u001b[1;33m)\u001b[0m\u001b[1;33m\u001b[0m\u001b[0m\n\u001b[0m\u001b[0;32m      8\u001b[0m \u001b[1;33m\u001b[0m\u001b[0m\n\u001b[0;32m      9\u001b[0m     \u001b[0mV\u001b[0m \u001b[1;33m=\u001b[0m \u001b[0mv2\u001b[0m \u001b[1;33m-\u001b[0m \u001b[0mv1\u001b[0m \u001b[1;33m+\u001b[0m \u001b[0mv3\u001b[0m\u001b[1;33m\u001b[0m\u001b[0m\n",
      "\u001b[1;32m/home/kiyono/work/nlp100/90-99/q86.py\u001b[0m in \u001b[0;36mword_vector\u001b[1;34m(self, word)\u001b[0m\n\u001b[0;32m     20\u001b[0m     \u001b[1;32mdef\u001b[0m \u001b[0mword_vector\u001b[0m\u001b[1;33m(\u001b[0m\u001b[0mself\u001b[0m\u001b[1;33m,\u001b[0m \u001b[0mword\u001b[0m\u001b[1;33m)\u001b[0m\u001b[1;33m:\u001b[0m\u001b[1;33m\u001b[0m\u001b[0m\n\u001b[0;32m     21\u001b[0m         \u001b[1;31m# wordを受け取って，idxを読んで，vecを返す\u001b[0m\u001b[1;33m\u001b[0m\u001b[1;33m\u001b[0m\u001b[0m\n\u001b[1;32m---> 22\u001b[1;33m         \u001b[0mw_idx\u001b[0m \u001b[1;33m=\u001b[0m \u001b[0mself\u001b[0m\u001b[1;33m.\u001b[0m\u001b[0mword2idx\u001b[0m\u001b[1;33m[\u001b[0m\u001b[0mword\u001b[0m\u001b[1;33m]\u001b[0m\u001b[1;33m\u001b[0m\u001b[0m\n\u001b[0m\u001b[0;32m     23\u001b[0m         \u001b[1;32mreturn\u001b[0m \u001b[0mself\u001b[0m\u001b[1;33m.\u001b[0m\u001b[0mM\u001b[0m\u001b[1;33m[\u001b[0m\u001b[0mw_idx\u001b[0m\u001b[1;33m]\u001b[0m\u001b[1;33m\u001b[0m\u001b[0m\n\u001b[0;32m     24\u001b[0m \u001b[1;33m\u001b[0m\u001b[0m\n",
      "\u001b[1;31mKeyError\u001b[0m: 'grandpa'"
     ]
    }
   ],
   "source": [
    "main()"
   ]
  },
  {
   "cell_type": "code",
   "execution_count": null,
   "metadata": {
    "collapsed": true
   },
   "outputs": [],
   "source": []
  }
 ],
 "metadata": {
  "kernelspec": {
   "display_name": "Python 2",
   "language": "python",
   "name": "python2"
  },
  "language_info": {
   "codemirror_mode": {
    "name": "ipython",
    "version": 2
   },
   "file_extension": ".py",
   "mimetype": "text/x-python",
   "name": "python",
   "nbconvert_exporter": "python",
   "pygments_lexer": "ipython2",
   "version": "2.7.6"
  }
 },
 "nbformat": 4,
 "nbformat_minor": 0
}
